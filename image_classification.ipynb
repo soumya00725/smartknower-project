{
  "nbformat": 4,
  "nbformat_minor": 0,
  "metadata": {
    "colab": {
      "name": "image classification.ipynb",
      "provenance": [],
      "authorship_tag": "ABX9TyMsBFz4dgtNtwcdi2Ty4qOK",
      "include_colab_link": true
    },
    "kernelspec": {
      "name": "python3",
      "display_name": "Python 3"
    },
    "language_info": {
      "name": "python"
    }
  },
  "cells": [
    {
      "cell_type": "markdown",
      "metadata": {
        "id": "view-in-github",
        "colab_type": "text"
      },
      "source": [
        "<a href=\"https://colab.research.google.com/github/soumya00725/smartknower-project/blob/main/image_classification.ipynb\" target=\"_parent\"><img src=\"https://colab.research.google.com/assets/colab-badge.svg\" alt=\"Open In Colab\"/></a>"
      ]
    },
    {
      "cell_type": "code",
      "metadata": {
        "colab": {
          "base_uri": "https://localhost:8080/"
        },
        "id": "E48TCsyLW1dw",
        "outputId": "c7f1d0e2-3798-4a3b-f918-948e83db7b05"
      },
      "source": [
        "!pip install bing-image-downloader"
      ],
      "execution_count": 1,
      "outputs": [
        {
          "output_type": "stream",
          "text": [
            "Collecting bing-image-downloader\n",
            "  Downloading https://files.pythonhosted.org/packages/2c/f9/e827c690d0df1ec2f2f27cf0fb3d1f944c5c56253f8d3750ccaff051b3d3/bing_image_downloader-1.1.0-py3-none-any.whl\n",
            "Installing collected packages: bing-image-downloader\n",
            "Successfully installed bing-image-downloader-1.1.0\n"
          ],
          "name": "stdout"
        }
      ]
    },
    {
      "cell_type": "code",
      "metadata": {
        "id": "kqsvS2egYVYj"
      },
      "source": [
        "!mkdir Images"
      ],
      "execution_count": 2,
      "outputs": []
    },
    {
      "cell_type": "code",
      "metadata": {
        "colab": {
          "base_uri": "https://localhost:8080/"
        },
        "id": "bsYxkiJ3YwJt",
        "outputId": "8a5ca502-a568-4d2f-d77a-7d85a18764cd"
      },
      "source": [
        "from bing_image_downloader import downloader as dl\n",
        "dl.download(\"guitar\",limit=25,output_dir='Images',\n",
        "            adult_filter_off=True)"
      ],
      "execution_count": 3,
      "outputs": [
        {
          "output_type": "stream",
          "text": [
            "[%] Downloading Images to /content/Images/guitar\n",
            "\n",
            "\n",
            "[!!]Indexing page: 1\n",
            "\n",
            "[%] Indexed 25 Images on Page 1.\n",
            "\n",
            "===============================================\n",
            "\n",
            "[%] Downloading Image #1 from http://www.lychgate.net/content/1-home/string-true-temperament-guitar/manton-customs-8-string-tt-guitar.jpg\n",
            "[%] File Downloaded !\n",
            "\n",
            "[%] Downloading Image #2 from https://strandbergguitars.com/wp-content/uploads/2018/05/true_temperament_detail_2.jpg\n",
            "[%] File Downloaded !\n",
            "\n",
            "[%] Downloading Image #3 from https://c1.zzounds.com/media/productmedia/fit,2018by3200/quality,85/8_Full_Left_Front_NA-7b2cd0418df793f4673b30f05a077f52.jpg\n",
            "[%] File Downloaded !\n",
            "\n",
            "[%] Downloading Image #4 from https://media.musiciansfriend.com/is/image/MMGS7/Hummingbird-True-Vintage-Acoustic-Guitar/513690000053001-00-1600x1600.jpg\n",
            "[%] File Downloaded !\n",
            "\n",
            "[%] Downloading Image #5 from https://cdn.shopify.com/s/files/1/0230/9164/2448/files/1941-Martin-000-42-78684-018.jpg?v=1585601357\n",
            "[%] File Downloaded !\n",
            "\n",
            "[%] Downloading Image #6 from https://images.reverb.com/image/upload/s--NvdAIxUs--/f_auto,t_large/v1583106969/kelew37bngp1rhyim7xr.jpg\n",
            "[%] File Downloaded !\n",
            "\n",
            "[%] Downloading Image #7 from http://2.bp.blogspot.com/-nOmyxspzy7U/UKjtG0n9k9I/AAAAAAAAAIo/3h5_4VP9QLk/s1600/002.JPG\n",
            "[%] File Downloaded !\n",
            "\n",
            "[%] Downloading Image #8 from https://www.headbangerstore.com/wp-content/uploads/2018/01/truetone-01.jpg\n",
            "[!] Issue getting: https://www.headbangerstore.com/wp-content/uploads/2018/01/truetone-01.jpg\n",
            "[!] Error:: <urlopen error [SSL: CERTIFICATE_VERIFY_FAILED] certificate verify failed: unable to get local issuer certificate (_ssl.c:1091)>\n",
            "[%] Downloading Image #8 from http://www.reallygreatguitars.com/wp-content/uploads/2018/08/DSC06230.jpg\n",
            "[%] File Downloaded !\n",
            "\n",
            "[%] Downloading Image #9 from https://crossroads-music.com/wp-content/uploads/2017/07/Martin-SWOMGT-C-1832-3.jpg\n",
            "[%] File Downloaded !\n",
            "\n",
            "[%] Downloading Image #10 from http://www.guitarras-calliope.com/_Media/truetemperament_med-3.png\n",
            "[%] File Downloaded !\n",
            "\n",
            "[%] Downloading Image #11 from https://truefretguitar.com/wp-content/uploads/2020/03/davidsguitars-rotated-e1583535374597.jpg\n",
            "[%] File Downloaded !\n",
            "\n",
            "[%] Downloading Image #12 from http://www.myrareguitars.com/guitar-pictures/vintage-1950s-true-tone-acoustic-guitar-01.jpeg\n",
            "[%] File Downloaded !\n",
            "\n",
            "[%] Downloading Image #13 from https://c1.zzounds.com/media/productmedia/fit,2018by3200/quality,85/2_Body_Straight_Front_NA-faa3f6c406c60d70971a13e621793de6.jpg\n",
            "[%] File Downloaded !\n",
            "\n",
            "[%] Downloading Image #14 from https://guitars.azureedge.net/aza/user/gear/1936-gibson-l-00-black-3-bu71z77.jpg\n",
            "[%] File Downloaded !\n",
            "\n",
            "[%] Downloading Image #15 from https://c1.zzounds.com/media/productmedia/fit,600by600/quality,85/8_Full_Left_Front_NA-f4ceb168806893b98d69817a8dbcd1c4.jpg\n",
            "[%] File Downloaded !\n",
            "\n",
            "[%] Downloading Image #16 from https://c1.zzounds.com/media/productmedia/fit,2018by3200/quality,85/7_Body_Left_Front_NA-1af87368bbaf8228b7bc790a4b9274ba.jpg\n",
            "[%] File Downloaded !\n",
            "\n",
            "[%] Downloading Image #17 from https://media.musiciansfriend.com/is/image/MMGS7/2016-Hummingbird-True-Vintage-Square-Shoulder-Dreadnought-Acoustic-Guitar-Vintage-Cherry/J24258000001000-00-1600x1600.jpg\n",
            "[%] File Downloaded !\n",
            "\n",
            "[%] Downloading Image #18 from https://strandbergguitars.com/wp-content/uploads/2020/01/bd6ct-20t-p-f-bn_6.png\n",
            "[%] File Downloaded !\n",
            "\n",
            "[%] Downloading Image #19 from https://media.guitarcenter.com/is/image/MMGS7/J185-TV-True-Vintage-Acoustic-Guitar/000000111585514-00-1200x1200.jpg\n",
            "[%] File Downloaded !\n",
            "\n",
            "[%] Downloading Image #20 from https://media.musiciansfriend.com/is/image/MMGS7/Hummingbird-True-Vintage-VOS-Acoustic-Guitar/527897000000000-00-1600x1600.jpg\n",
            "[%] File Downloaded !\n",
            "\n",
            "[%] Downloading Image #21 from https://www.truetemperament.com/media/1275/mark-b-s-true-temperament-strat.jpeg?width=1200\n",
            "[%] File Downloaded !\n",
            "\n",
            "[%] Downloading Image #22 from http://guitarworks.thestrandbergs.com/wp-content/IMG_0482-Edit.jpg\n",
            "[%] File Downloaded !\n",
            "\n",
            "[%] Downloading Image #23 from http://truefretguitar.com/wp-content/uploads/2015/04/threeGuitars_1024x600.jpg\n",
            "[%] File Downloaded !\n",
            "\n",
            "[%] Downloading Image #24 from https://cdn.shopify.com/s/files/1/1391/6197/products/0a273cdeb4a4e4a28494ff26ad1a84de.jpg?v=1508413645\n",
            "[%] File Downloaded !\n",
            "\n",
            "\n",
            "\n",
            "[!!]Indexing page: 2\n",
            "\n",
            "[%] Indexed 35 Images on Page 2.\n",
            "\n",
            "===============================================\n",
            "\n",
            "[%] Downloading Image #25 from https://strandbergguitars.com/wp-content/uploads/2018/05/true_temperament_detail_2.jpg\n",
            "[%] File Downloaded !\n",
            "\n",
            "\n",
            "\n",
            "[%] Done. Downloaded 25 images.\n",
            "===============================================\n",
            "\n",
            "Please show your support here\n",
            "https://www.buymeacoffee.com/gurugaurav\n",
            "\n",
            "===============================================\n",
            "\n"
          ],
          "name": "stdout"
        }
      ]
    },
    {
      "cell_type": "code",
      "metadata": {
        "colab": {
          "base_uri": "https://localhost:8080/"
        },
        "id": "e448JI2KZgwB",
        "outputId": "caeed6bc-c99c-495e-8004-74b3d333b28c"
      },
      "source": [
        "dl.download(\"apples\",limit=25,output_dir='Images',\n",
        "            adult_filter_off=True)"
      ],
      "execution_count": 4,
      "outputs": [
        {
          "output_type": "stream",
          "text": [
            "[%] Downloading Images to /content/Images/apples\n",
            "\n",
            "\n",
            "[!!]Indexing page: 1\n",
            "\n",
            "[%] Indexed 25 Images on Page 1.\n",
            "\n",
            "===============================================\n",
            "\n",
            "[%] Downloading Image #1 from https://i.pinimg.com/originals/cd/a4/32/cda432494378f50d8160b76083d22d73.jpg\n",
            "[%] File Downloaded !\n",
            "\n",
            "[%] Downloading Image #2 from https://fthmb.tqn.com/mBFTBShFgku3FXwKcKjTGqbp4IU=/960x0/filters:no_upscale():max_bytes(150000):strip_icc()/apples-resized-56a98c755f9b58b7d0fc9f59.jpg\n",
            "[%] File Downloaded !\n",
            "\n",
            "[%] Downloading Image #3 from https://krugersdorpnews.co.za/wp-content/uploads/sites/2/2016/09/apple-1589874_960_720-Medium.jpg\n",
            "[%] File Downloaded !\n",
            "\n",
            "[%] Downloading Image #4 from https://www.buellinspections.com/wp-content/uploads/2013/10/apple.jpg\n",
            "[%] File Downloaded !\n",
            "\n",
            "[%] Downloading Image #5 from https://img.allw.mn/content/je/d6/gjt1yv2f5627e95eaa753311919029.jpg\n",
            "[!] Issue getting: https://img.allw.mn/content/je/d6/gjt1yv2f5627e95eaa753311919029.jpg\n",
            "[!] Error:: <urlopen error [SSL: CERTIFICATE_VERIFY_FAILED] certificate verify failed: unable to get local issuer certificate (_ssl.c:1091)>\n",
            "[%] Downloading Image #5 from https://www.macdentalcare.com/pub/photo/2014-09-apple.jpg\n",
            "[%] File Downloaded !\n",
            "\n",
            "[%] Downloading Image #6 from https://www.growforagecookferment.com/wp-content/uploads/2016/09/apples-in-colander.jpg\n",
            "[%] File Downloaded !\n",
            "\n",
            "[%] Downloading Image #7 from https://i.pinimg.com/originals/f2/62/4e/f2624e4e134778964c7e3f603b8f30d0.jpg\n",
            "[%] File Downloaded !\n",
            "\n",
            "[%] Downloading Image #8 from https://blog.truemodel.net/wp-content/uploads/2016/09/Living-TRUE-10-Apple-Recipes-01.jpg\n",
            "[%] File Downloaded !\n",
            "\n",
            "[%] Downloading Image #9 from https://multifiles.pressherald.com/uploads/sites/4/2017/10/1265063_890715-foraged-e1507066237714.jpg\n",
            "[%] File Downloaded !\n",
            "\n",
            "[%] Downloading Image #10 from http://1.bp.blogspot.com/-2urXGsUn2EE/VqBWbEI6JOI/AAAAAAAAB9o/4Xorogy0n3E/s1600/IMG_2423.jpg\n",
            "[%] File Downloaded !\n",
            "\n",
            "[%] Downloading Image #11 from https://flourishyoga.ca/wp-content/uploads/2015/09/fall-apples.jpg\n",
            "[%] File Downloaded !\n",
            "\n",
            "[%] Downloading Image #12 from https://servingjoy.com/wp-content/uploads/2014/12/organic-fresh-apples-on-wooden-background-in-autumn-harvest-at-local-farm.-Agriculture-concept-theme-with-fresh-apples-in-nature.jpg\n",
            "[%] File Downloaded !\n",
            "\n",
            "[%] Downloading Image #13 from https://i.pinimg.com/originals/5d/ec/9c/5dec9c343e98ad03681945321b84ecde.jpg\n",
            "[%] File Downloaded !\n",
            "\n",
            "[%] Downloading Image #14 from https://www.rd.com/wp-content/uploads/2017/09/01_apples_The-Gross-Truth-About-the-Apples-Youre-Buying-at-the-Supermarket_224332468_Robin-Keefe.jpg\n",
            "[%] File Downloaded !\n",
            "\n",
            "[%] Downloading Image #15 from https://upload.wikimedia.org/wikipedia/commons/thumb/b/b2/Apples_(9691387993).jpg/1280px-Apples_(9691387993).jpg\n",
            "[%] File Downloaded !\n",
            "\n",
            "[%] Downloading Image #16 from https://www.gardeningknowhow.com/wp-content/uploads/2018/06/green-apples.jpg\n",
            "[%] File Downloaded !\n",
            "\n",
            "[%] Downloading Image #17 from https://klishis.com/notreally/wp-content/uploads/2018/08/Apples.jpg\n",
            "[%] File Downloaded !\n",
            "\n",
            "[%] Downloading Image #18 from https://blog.myfitnesspal.com/wp-content/uploads/2018/10/The-6-Most-Nutritious-Apples-You-Can-Buy.jpg\n",
            "[%] File Downloaded !\n",
            "\n",
            "[%] Downloading Image #19 from https://www.okspecialtyfruits.com/wp-content/uploads/2015/07/Sliced-Arctic-Granny-1024x680.jpg\n",
            "[%] File Downloaded !\n",
            "\n",
            "[%] Downloading Image #20 from https://www.homefortheharvest.com/wp-content/uploads/2020/10/Green-Apples-in-front-of-Red-Apples.jpeg\n",
            "[%] File Downloaded !\n",
            "\n",
            "[%] Downloading Image #21 from https://3.bp.blogspot.com/-2zj88wB2API/T5Azi5R3uFI/AAAAAAAAAtw/e78gMW1cOko/s1600/fruit+avoid+diabetes.jpg\n",
            "[%] File Downloaded !\n",
            "\n",
            "[%] Downloading Image #22 from https://i.pinimg.com/originals/85/71/1e/85711e802872b4ce4add77e9f719c6e7.jpg\n",
            "[%] File Downloaded !\n",
            "\n",
            "[%] Downloading Image #23 from https://s.yimg.com/uu/api/res/1.2/PGDpEvZcD07Xyto0239jbw--~B/aD0xNDQwO3c9OTU5O3NtPTE7YXBwaWQ9eXRhY2h5b24-/https://media.zenfs.com/en/delish_597/ea30667b91933d13ce7db61935ea08cd\n",
            "[%] File Downloaded !\n",
            "\n",
            "[%] Downloading Image #24 from https://www.rd.com/wp-content/uploads/2018/05/apples.jpg\n",
            "[%] File Downloaded !\n",
            "\n",
            "\n",
            "\n",
            "[!!]Indexing page: 2\n",
            "\n",
            "[%] Indexed 35 Images on Page 2.\n",
            "\n",
            "===============================================\n",
            "\n",
            "[%] Downloading Image #25 from https://i.pinimg.com/originals/cd/a4/32/cda432494378f50d8160b76083d22d73.jpg\n",
            "[%] File Downloaded !\n",
            "\n",
            "\n",
            "\n",
            "[%] Done. Downloaded 25 images.\n",
            "===============================================\n",
            "\n",
            "Please show your support here\n",
            "https://www.buymeacoffee.com/gurugaurav\n",
            "\n",
            "===============================================\n",
            "\n"
          ],
          "name": "stdout"
        }
      ]
    },
    {
      "cell_type": "code",
      "metadata": {
        "id": "oenMVrdDaakb"
      },
      "source": [
        "import os\n",
        "import matplotlib.pyplot as plt\n",
        "import numpy as np\n",
        "from skimage.io import imread\n",
        "from skimage.transform import resize\n",
        "\n",
        "target = []\n",
        "images = []\n",
        "flat_data = []\n",
        "\n",
        "DATADIR = '/content/Images'\n",
        "CATEGORIES = ['apples','guitar']\n",
        "\n",
        "for category in CATEGORIES:\n",
        "  class_num = CATEGORIES.index(category)\n",
        "  path = os.path.join(DATADIR,category)\n",
        "  for img in os.listdir(path):\n",
        "    img_array = imread(os.path.join(path,img))\n",
        "\n",
        "    img_resized = resize(img_array,(150,150,3))\n",
        "    flat_data.append(img_resized.flatten())\n",
        "    images.append(img_resized)\n",
        "    target.append(class_num)\n",
        "\n",
        "flat_data = np.array(flat_data)\n",
        "images = np.array(images)\n",
        "target = np.array(target)\n"
      ],
      "execution_count": 22,
      "outputs": []
    },
    {
      "cell_type": "code",
      "metadata": {
        "id": "lqASIs6FgdVu"
      },
      "source": [
        "from sklearn.model_selection import train_test_split\n",
        "x_train,x_test,y_train,y_test = train_test_split(flat_data,target,\n",
        "                                                 test_size=0.3,random_state=109)"
      ],
      "execution_count": 24,
      "outputs": []
    },
    {
      "cell_type": "code",
      "metadata": {
        "colab": {
          "base_uri": "https://localhost:8080/"
        },
        "id": "Bm5am4gR_UHU",
        "outputId": "e745c973-fa84-4c87-eafc-d7c94b6f1b29"
      },
      "source": [
        "from sklearn.model_selection import GridSearchCV\n",
        "from sklearn import svm\n",
        "param_grid = [\n",
        "              {'C':[1,10,100,1000],'kernel':['linear']},\n",
        "              {'C':[1,10,100,1000],'gamma':[0.001,0.0001],'kernel':['rbf']},\n",
        "]\n",
        "\n",
        "svc = svm.SVC(probability=True)\n",
        "clf = GridSearchCV(svc,param_grid)\n",
        "clf.fit(x_train,y_train)"
      ],
      "execution_count": 30,
      "outputs": [
        {
          "output_type": "execute_result",
          "data": {
            "text/plain": [
              "GridSearchCV(cv=None, error_score=nan,\n",
              "             estimator=SVC(C=1.0, break_ties=False, cache_size=200,\n",
              "                           class_weight=None, coef0=0.0,\n",
              "                           decision_function_shape='ovr', degree=3,\n",
              "                           gamma='scale', kernel='rbf', max_iter=-1,\n",
              "                           probability=True, random_state=None, shrinking=True,\n",
              "                           tol=0.001, verbose=False),\n",
              "             iid='deprecated', n_jobs=None,\n",
              "             param_grid=[{'C': [1, 10, 100, 1000], 'kernel': ['linear']},\n",
              "                         {'C': [1, 10, 100, 1000], 'gamma': [0.001, 0.0001],\n",
              "                          'kernel': ['rbf']}],\n",
              "             pre_dispatch='2*n_jobs', refit=True, return_train_score=False,\n",
              "             scoring=None, verbose=0)"
            ]
          },
          "metadata": {
            "tags": []
          },
          "execution_count": 30
        }
      ]
    },
    {
      "cell_type": "code",
      "metadata": {
        "id": "9fdFDdnBBkk8"
      },
      "source": [
        ""
      ],
      "execution_count": null,
      "outputs": []
    }
  ]
}